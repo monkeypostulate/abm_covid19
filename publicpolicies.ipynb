{
  "nbformat": 4,
  "nbformat_minor": 0,
  "metadata": {
    "colab": {
      "name": "publicpolicies.ipynb",
      "provenance": [],
      "collapsed_sections": []
    },
    "kernelspec": {
      "name": "python3",
      "display_name": "Python 3"
    }
  },
  "cells": [
    {
      "cell_type": "code",
      "metadata": {
        "id": "Ob2iqEgnB4Z_",
        "colab_type": "code",
        "outputId": "51b1c902-f970-4897-fbf2-341265ecec33",
        "colab": {
          "base_uri": "https://localhost:8080/",
          "height": 51
        }
      },
      "source": [
        "!pip install networkx"
      ],
      "execution_count": 0,
      "outputs": [
        {
          "output_type": "stream",
          "text": [
            "Requirement already satisfied: networkx in /usr/local/lib/python3.6/dist-packages (2.4)\n",
            "Requirement already satisfied: decorator>=4.3.0 in /usr/local/lib/python3.6/dist-packages (from networkx) (4.4.2)\n"
          ],
          "name": "stdout"
        }
      ]
    },
    {
      "cell_type": "markdown",
      "metadata": {
        "id": "zj18eE0dmeXY",
        "colab_type": "text"
      },
      "source": [
        ""
      ]
    },
    {
      "cell_type": "code",
      "metadata": {
        "id": "a2WgYL4WVU9h",
        "colab_type": "code",
        "colab": {}
      },
      "source": [
        "import networkx as nx\n",
        "import numpy as np\n",
        "import matplotlib.pyplot as plt\n",
        "import pandas as pd"
      ],
      "execution_count": 0,
      "outputs": []
    },
    {
      "cell_type": "markdown",
      "metadata": {
        "id": "9gFg0rg6YBL7",
        "colab_type": "text"
      },
      "source": [
        "<h1> Assumption 0</h1>\n",
        "\n",
        "\n"
      ]
    },
    {
      "cell_type": "code",
      "metadata": {
        "id": "LuOWDYECCJLS",
        "colab_type": "code",
        "colab": {}
      },
      "source": [
        "population_ch = 8.57 * 10**6\n",
        "population_it = 60.58 * 10**6\n",
        "population_synthetic=6000 "
      ],
      "execution_count": 0,
      "outputs": []
    },
    {
      "cell_type": "markdown",
      "metadata": {
        "id": "22UQ-6eyj4ab",
        "colab_type": "text"
      },
      "source": [
        "<h1> Assumption 1</h1>"
      ]
    },
    {
      "cell_type": "code",
      "metadata": {
        "id": "ubUp3gQrUn8Z",
        "colab_type": "code",
        "colab": {}
      },
      "source": [
        "def b_subset_of_a(a,b):\n",
        "  \"\"\"\n",
        "  Function to check if all the edges of the previous model were send to the next model\n",
        "  \"\"\"\n",
        "  counter = 0\n",
        "  big_set = []\n",
        "  small_set = []\n",
        "  for i in a:\n",
        "    big_set.append(tuple(sorted(i)))\n",
        "  for i in b:\n",
        "    small_set.append(tuple(sorted(i)))\n",
        "  if set(small_set).issubset(big_set):\n",
        "    return True\n",
        "  return False\n",
        "\n",
        "\n",
        "\n",
        "def preferential_attachement(n_people: int, n_edges: int):\n",
        "  \"\"\"\n",
        "  Constructs a Barabasi Albert Graph for a given number of people.\n",
        "  The graph is constructed iteratively, where at every step a new node is added\n",
        "  and connected to n_edges of other nodes. This should result in hubs.\n",
        "  \"\"\"\n",
        "  return nx.barabasi_albert_graph(n_people, n_edges)"
      ],
      "execution_count": 0,
      "outputs": []
    },
    {
      "cell_type": "code",
      "metadata": {
        "id": "2MQ86tHCCNmt",
        "colab_type": "code",
        "colab": {}
      },
      "source": [
        "def model(n, p, k, sizes, probs, preferential_attachement = False):\n",
        "  # Assumption 1.\n",
        "  # in is defined by assumption 0, and p*(n-1) is the expected number of connections a person has\n",
        "  G1 = nx.erdos_renyi_graph(n, p, directed=False)\n",
        "  # Assumption 1.2\n",
        "  G2 = nx.stochastic_block_model(sizes, probs, seed=0)\n",
        "  # Assumption 1.3\n",
        "  G3 = nx.barabasi_albert_graph(n, k)\n",
        "  #Get edges from a graph\n",
        "  #output (u,v) u and v are the nodes, which are connected to each other\n",
        "  edges_block = G2.edges()\n",
        "  edges_overall = G1.edges()\n",
        "  G1.add_edges_from(edges_block)\n",
        "\n",
        "  if not b_subset_of_a(edges_overall, edges_block):\n",
        "    #print(\"error: failed to get all erdos edges\"\n",
        "    return False\n",
        "\n",
        "  if preferential_attachement:\n",
        "    edges_barabasi = G3.edges()\n",
        "    G1.add_edges_from(edges_barabasi)\n",
        "    edges_overall_new = G1.edges()\n",
        "    if not b_subset_of_a(edges_overall_new, edges_barabasi):\n",
        "      #print(\"error: failed to get all barabasi edges\")\n",
        "      return False\n",
        "  G1 = G1.to_undirected()\n",
        "  return G1\n",
        "\n",
        "\n",
        "#G = model(100,0.1,2,[75, 75, 300],[[0.25, 0.05, 0.02],[0.05, 0.35, 0.07],[0.02, 0.07, 0.40]])"
      ],
      "execution_count": 0,
      "outputs": []
    },
    {
      "cell_type": "markdown",
      "metadata": {
        "id": "u1nPKPFt5_1i",
        "colab_type": "text"
      },
      "source": [
        "<h1> Assumption 2</h1>\n"
      ]
    },
    {
      "cell_type": "code",
      "metadata": {
        "id": "HiN7N4CX2PtH",
        "colab_type": "code",
        "colab": {}
      },
      "source": [
        "def initial_infection(g, people_infected_perc):\n",
        "  healthy = 0\n",
        "  infected = 1\n",
        "  recovered = 2\n",
        "\n",
        "  already_infected = True\n",
        "\n",
        "  size = len(g)\n",
        "  people_infected = int(people_infected_perc * size)\n",
        "  \n",
        "  #initial all node states\n",
        "  for i in g.nodes():\n",
        "    g.nodes[i]['state'] = healthy\n",
        "    g.nodes[i]['contact'] = 0\n",
        "    g.nodes[i]['contact_with_infected'] = 0\n",
        "    g.nodes[i]['incubation_time'] = 0\n",
        "\n",
        "  #initial infected nodes\n",
        "  for i in range(people_infected):\n",
        "    already_infected = False\n",
        "    while not already_infected:\n",
        "      seed = np.random.randint(people_infected)\n",
        "      if g.nodes[seed]['state'] != infected:\n",
        "        g.nodes[seed]['state'] = infected\n",
        "        already_infected = True\n",
        "\n",
        "  return g\n",
        "\n",
        "\n"
      ],
      "execution_count": 0,
      "outputs": []
    },
    {
      "cell_type": "markdown",
      "metadata": {
        "id": "HYz5I4zlz6ye",
        "colab_type": "text"
      },
      "source": [
        "<h1> Assumption 3 + 4</h1>"
      ]
    },
    {
      "cell_type": "code",
      "metadata": {
        "id": "t97esUgk7BJq",
        "colab_type": "code",
        "colab": {}
      },
      "source": [
        "def contact_and_infection(g,neighbor, meeting_rand, meet_probability, met_infected = False, infection_rate = None, parent = None, incubation_period = None):\n",
        "  if meeting_rand < meet_probability:\n",
        "    g.nodes[neighbor]['contact'] =+ 1\n",
        "    if met_infected:\n",
        "      g.nodes[neighbor]['contact_with_infected'] =+ 1\n",
        "      infection_rand = np.random.random()\n",
        "      if g.nodes[parent]['incubation_time'] > 0:\n",
        "        update_incubation_period(g,parent)\n",
        "        if infection_rand < infection_rate:\n",
        "          g.nodes[neighbor]['state'] = infected\n",
        "          initizialize_incubation(g, incubation_period)\n",
        "\n",
        "\n",
        "\n",
        "def interaction_with_people(g, population, infection_rate, recovery_rate, incubation_period, lockdown = False, people_met_in_lockdown = None, sociable = False):\n",
        "  people_chosen = np.random.randint(population)\n",
        "  \n",
        "  healthy = 0\n",
        "  infected = 1\n",
        "  recovered = 2\n",
        "\n",
        "  meet_probability = 0\n",
        "\n",
        "  if lockdown:\n",
        "    contacts = people_met_in_lockdown\n",
        "    meet_probability = 0.1\n",
        "  else:\n",
        "    #this variable could be changed\n",
        "    contacts = population * people_chosen\n",
        "    meet_probability = 0.7\n",
        "\n",
        "  for i in g.nodes():\n",
        "    neighbors = g.neighbors(i)\n",
        "    for neighbor in neighbors:\n",
        "      meeting_rand = np.random.random()\n",
        "      if g.nodes[i]['state'] == healthy:\n",
        "        contact_and_infection(g, neighbor, meeting_rand, meet_probability)\n",
        "        \n",
        "      elif g.nodes[i]['state'] == infected:\n",
        "        contact_and_infection(g, neighbor,meeting_rand, meet_probability, True, infection_rate,i, incubation_period)\n",
        "        recover_rand = np.random.random()\n",
        "        if recover_rand < recovery_rate:\n",
        "          g.nodes[neighbor]['state'] = recovered\n",
        "\n",
        "\n",
        "  return g"
      ],
      "execution_count": 0,
      "outputs": []
    },
    {
      "cell_type": "markdown",
      "metadata": {
        "id": "q_qHBEf3D3Db",
        "colab_type": "text"
      },
      "source": [
        "<h1> Assumption 5 </h1>"
      ]
    },
    {
      "cell_type": "code",
      "metadata": {
        "id": "1tZ0_oEuXjus",
        "colab_type": "code",
        "colab": {}
      },
      "source": [
        "def initizialize_incubation(g, incubation_period: int):\n",
        "  \"\"\"\n",
        "  Assuming that people are only infectious for a given timeframe.\n",
        "  Hence, they can only change the state of other people given their infection happened <= time_infected\n",
        "  \"\"\"\n",
        "  g.nodes[i]['incubation_time'] = incubation_period\n",
        "\n",
        "def update_incubation_period(g,i):\n",
        "  g.nodes[i]['incubation_time'] =- 1\n",
        "\n",
        "  \n",
        "  "
      ],
      "execution_count": 0,
      "outputs": []
    },
    {
      "cell_type": "markdown",
      "metadata": {
        "id": "64_eU39DEeAR",
        "colab_type": "text"
      },
      "source": [
        "<h1> Model running </h1>"
      ]
    },
    {
      "cell_type": "code",
      "metadata": {
        "id": "3Zo1ZA5ZGiW9",
        "colab_type": "code",
        "colab": {}
      },
      "source": [
        "#input parameter\n",
        "\n",
        "timestep = 10\n",
        "\n",
        "#erdos renyi model\n",
        "p = 0.1\n",
        "\n",
        "#barabasi model\n",
        "k = 2\n",
        "\n",
        "#input parameter assumption 2\n",
        "people_infected = 0.001\n",
        "population = 8.57 * 10**6\n",
        "\n",
        "#stochastic block model\n",
        "sizes = [100, 75, 300]\n",
        "probs = [[0.25, 0.05, 0.02],\n",
        "        [0.05, 0.35, 0.07],\n",
        "        [0.02, 0.07, 0.40]]\n",
        "\n",
        "\n"
      ],
      "execution_count": 0,
      "outputs": []
    },
    {
      "cell_type": "code",
      "metadata": {
        "id": "5OlilSVBH3YM",
        "colab_type": "code",
        "outputId": "d15df845-68b6-4a1c-8ad2-71aa025d1b1c",
        "colab": {
          "base_uri": "https://localhost:8080/",
          "height": 34
        }
      },
      "source": [
        "n = 1000\n",
        "\n",
        "g = model(n, p, k, sizes, probs)\n",
        "\n",
        "print(g)\n",
        "\n",
        "initial_infection(g,0.1)\n",
        "\n",
        "for i in range(timestep):\n",
        "  interaction_with_people(g, 10, 0.1, 0.05, True, 2, True)\n"
      ],
      "execution_count": 0,
      "outputs": [
        {
          "output_type": "stream",
          "text": [
            "\n"
          ],
          "name": "stdout"
        }
      ]
    },
    {
      "cell_type": "code",
      "metadata": {
        "id": "pLn8wj_00zr_",
        "colab_type": "code",
        "colab": {}
      },
      "source": [
        "def graph_to_json_file(G: nx.Graph, filename: str) -> None:\n",
        "    \"\"\"\n",
        "    Saves a graph into a json file.\n",
        "\n",
        "    :param G: Graph to jsonify and save \n",
        "    :param filename: Filename of the resulting json file. Should end with .json\n",
        "    \"\"\"\n",
        "    G_data = nx.json_graph.node_link_data(G)\n",
        "\n",
        "    with open(filename, 'w') as outfile:\n",
        "        json.dump(json.dumps(G_data), outfile)"
      ],
      "execution_count": 0,
      "outputs": []
    },
    {
      "cell_type": "code",
      "metadata": {
        "id": "6z5R-BzqnvDo",
        "colab_type": "code",
        "colab": {
          "base_uri": "https://localhost:8080/",
          "height": 173
        },
        "outputId": "f9e266f4-7053-487f-8244-77c6d91a0d72"
      },
      "source": [
        "def read_swiss_data(path_to_dataset: str):\n",
        "    return pd.read_csv(path_to_dataset, index_col=0)\n",
        "\n",
        "swiss_data = read_swiss_data('covid19_cases_switzerland.csv')\n",
        "swiss_data = swiss_data.fillna(method='ffill')\n",
        "print(swiss_data.head())\n"
      ],
      "execution_count": 4,
      "outputs": [
        {
          "output_type": "stream",
          "text": [
            "              AG   AI   AR    BE    BL    BS  ...   UR    VD    VS   ZG    ZH   CH\n",
            "Date                                          ...                                 \n",
            "2020-03-06  10.0  0.0  1.0  20.0   9.0  17.0  ...  0.0  23.0   4.0  5.0  24.0  208\n",
            "2020-03-07  14.0  0.0  1.0  25.0  13.0  22.0  ...  0.0  30.0   5.0  6.0  28.0  263\n",
            "2020-03-08  14.0  0.0  1.0  31.0  19.0  25.0  ...  0.0  40.0   5.0  7.0  34.0  328\n",
            "2020-03-09  14.0  0.0  2.0  34.0  20.0  29.0  ...  0.0  51.0   7.0  7.0  36.0  376\n",
            "2020-03-10  15.0  0.0  2.0  39.0  22.0  39.0  ...  0.0  77.0  15.0  7.0  45.0  505\n",
            "\n",
            "[5 rows x 27 columns]\n"
          ],
          "name": "stdout"
        }
      ]
    },
    {
      "cell_type": "code",
      "metadata": {
        "id": "m9e67HtYoCNt",
        "colab_type": "code",
        "colab": {}
      },
      "source": [
        ""
      ],
      "execution_count": 0,
      "outputs": []
    }
  ]
}
