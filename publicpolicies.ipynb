{
  "nbformat": 4,
  "nbformat_minor": 0,
  "metadata": {
    "colab": {
      "name": "publicpolicies.ipynb",
      "provenance": [],
      "collapsed_sections": []
    },
    "kernelspec": {
      "name": "python3",
      "display_name": "Python 3"
    }
  },
  "cells": [
    {
      "cell_type": "code",
      "metadata": {
        "id": "Ob2iqEgnB4Z_",
        "colab_type": "code",
        "outputId": "1dd1fcf1-f2db-46fe-b693-501215e0985a",
        "colab": {
          "base_uri": "https://localhost:8080/",
          "height": 72
        }
      },
      "source": [
        "!pip install networkx\n",
        "!pip install "
      ],
      "execution_count": 0,
      "outputs": [
        {
          "output_type": "stream",
          "text": [
            "Requirement already satisfied: networkx in /usr/local/lib/python3.6/dist-packages (2.4)\n",
            "Requirement already satisfied: decorator>=4.3.0 in /usr/local/lib/python3.6/dist-packages (from networkx) (4.4.2)\n",
            "\u001b[31mERROR: You must give at least one requirement to install (see \"pip help install\")\u001b[0m\n"
          ],
          "name": "stdout"
        }
      ]
    },
    {
      "cell_type": "markdown",
      "metadata": {
        "id": "zj18eE0dmeXY",
        "colab_type": "text"
      },
      "source": [
        ""
      ]
    },
    {
      "cell_type": "code",
      "metadata": {
        "id": "a2WgYL4WVU9h",
        "colab_type": "code",
        "colab": {}
      },
      "source": [
        "import networkx as nx\n",
        "import numpy as np\n",
        "import matplotlib.pyplot as plt"
      ],
      "execution_count": 0,
      "outputs": []
    },
    {
      "cell_type": "markdown",
      "metadata": {
        "id": "9gFg0rg6YBL7",
        "colab_type": "text"
      },
      "source": [
        "<h1> Assumption 0</h1>\n",
        "\n",
        "\n"
      ]
    },
    {
      "cell_type": "code",
      "metadata": {
        "id": "LuOWDYECCJLS",
        "colab_type": "code",
        "colab": {}
      },
      "source": [
        "population_ch = 8.57 * 10**6\n",
        "population_it = 60.58 * 10**6\n",
        "population_synthetic=6000 "
      ],
      "execution_count": 0,
      "outputs": []
    },
    {
      "cell_type": "markdown",
      "metadata": {
        "id": "22UQ-6eyj4ab",
        "colab_type": "text"
      },
      "source": [
        "<h1> Assumption 1</h1>"
      ]
    },
    {
      "cell_type": "code",
      "metadata": {
        "id": "ubUp3gQrUn8Z",
        "colab_type": "code",
        "colab": {}
      },
      "source": [
        "\n",
        "def p_function(n):\n",
        "  random_encounter = np.random.random()\n",
        "  \n",
        "  return random_encounter/(n-1)\n",
        "  \n",
        "\n",
        "def b_subset_of_a(a,b):\n",
        "  \"\"\"\n",
        "  Function to check if all the edges of the previous model where send to the next model\n",
        "  \"\"\"\n",
        "  counter = 0\n",
        "  big_set = []\n",
        "  small_set = []\n",
        "  for i in a:\n",
        "    big_set.append(tuple(sorted(i)))\n",
        "  for i in b:\n",
        "    small_set.append(tuple(sorted(i)))\n",
        "  if set(small_set).issubset(big_set):\n",
        "    return True\n",
        "  return False\n",
        "\n",
        "\n",
        "\n",
        "def preferential_attachement():\n",
        "  pass"
      ],
      "execution_count": 0,
      "outputs": []
    },
    {
      "cell_type": "code",
      "metadata": {
        "id": "8mfcsGChyvAG",
        "colab_type": "code",
        "colab": {}
      },
      "source": [
        "n = 10\n",
        "p = 0.1\n",
        "k = 5"
      ],
      "execution_count": 0,
      "outputs": []
    },
    {
      "cell_type": "code",
      "metadata": {
        "id": "2MQ86tHCCNmt",
        "colab_type": "code",
        "colab": {}
      },
      "source": [
        "def model(n,p,k):\n",
        "  # Assumption 1.\n",
        "  # in is defined by assumption 0, and p*(n-1) is the expected number of connections a person has\n",
        "  G1 = nx.erdos_renyi_graph(n, p, directed=False)\n",
        "  # Assumption 1.2\n",
        "  G2 = nx.stochastic_block_model(sizes, probs, seed=0)\n",
        "  # Assumption 1.3\n",
        "  G3 = nx.barabasi_albert_graph(n, k)\n",
        "  #Get edges from a graph\n",
        "  #output (u,v) u and v are the nodes, which are connected to each other\n",
        "  connections = G2.edges()\n",
        "  G1.add_edges_from(connections)\n",
        "  return G1\n"
      ],
      "execution_count": 0,
      "outputs": []
    },
    {
      "cell_type": "markdown",
      "metadata": {
        "id": "u1nPKPFt5_1i",
        "colab_type": "text"
      },
      "source": [
        "<h1> Assumption 2</h1>\n"
      ]
    },
    {
      "cell_type": "code",
      "metadata": {
        "id": "HiN7N4CX2PtH",
        "colab_type": "code",
        "colab": {}
      },
      "source": [
        "def infection(g, people_infected_perc):\n",
        "  healthy = 0\n",
        "  infected = 1\n",
        "  recovered = 2\n",
        "\n",
        "  checker = True\n",
        "\n",
        "  size = len(g)\n",
        "  people_infected = people_infected_perc * size\n",
        "  \n",
        "  #initial infected state\n",
        "  for i in g.nodes():\n",
        "    g.nodes[i]['state'] = healthy\n",
        "\n",
        "  for i in range(people_infected):\n",
        "    checker = False\n",
        "    while checker == False:\n",
        "      seed = np.random.randint(people_infected)\n",
        "      if g.nodes[seed]['state'] != infected:\n",
        "        g.nodes[seed]['state'] = infected\n",
        "        checker = False\n",
        "      \n",
        "  #print(g.nodes[seed]['state'])\n",
        "\n",
        "\n"
      ],
      "execution_count": 0,
      "outputs": []
    },
    {
      "cell_type": "code",
      "metadata": {
        "id": "1tZ0_oEuXjus",
        "colab_type": "code",
        "colab": {}
      },
      "source": [
        ""
      ],
      "execution_count": 0,
      "outputs": []
    }
  ]
}