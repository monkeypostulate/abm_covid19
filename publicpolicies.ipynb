{
  "nbformat": 4,
  "nbformat_minor": 0,
  "metadata": {
    "colab": {
      "name": "publicpolicies.ipynb",
      "provenance": [],
      "collapsed_sections": []
    },
    "kernelspec": {
      "name": "python3",
      "display_name": "Python 3"
    }
  },
  "cells": [
    {
      "cell_type": "code",
      "metadata": {
        "id": "Ob2iqEgnB4Z_",
        "colab_type": "code",
        "outputId": "86e7445e-bb89-48c7-eeed-3399d8410a6d",
        "colab": {
          "base_uri": "https://localhost:8080/",
          "height": 51
        }
      },
      "source": [
        "!pip install networkx"
      ],
      "execution_count": 0,
      "outputs": [
        {
          "output_type": "stream",
          "text": [
            "Requirement already satisfied: networkx in /usr/local/lib/python3.6/dist-packages (2.4)\n",
            "Requirement already satisfied: decorator>=4.3.0 in /usr/local/lib/python3.6/dist-packages (from networkx) (4.4.2)\n"
          ],
          "name": "stdout"
        }
      ]
    },
    {
      "cell_type": "markdown",
      "metadata": {
        "id": "zj18eE0dmeXY",
        "colab_type": "text"
      },
      "source": [
        ""
      ]
    },
    {
      "cell_type": "code",
      "metadata": {
        "id": "a2WgYL4WVU9h",
        "colab_type": "code",
        "colab": {}
      },
      "source": [
        "import networkx as nx\n",
        "import numpy as np\n",
        "import matplotlib.pyplot as plt"
      ],
      "execution_count": 0,
      "outputs": []
    },
    {
      "cell_type": "markdown",
      "metadata": {
        "id": "9gFg0rg6YBL7",
        "colab_type": "text"
      },
      "source": [
        "<h1> Assumption 0</h1>\n",
        "\n",
        "\n"
      ]
    },
    {
      "cell_type": "code",
      "metadata": {
        "id": "LuOWDYECCJLS",
        "colab_type": "code",
        "colab": {}
      },
      "source": [
        "population_ch = 8.57 * 10**6\n",
        "population_it = 60.58 * 10**6\n",
        "population_synthetic=6000 "
      ],
      "execution_count": 0,
      "outputs": []
    },
    {
      "cell_type": "markdown",
      "metadata": {
        "id": "22UQ-6eyj4ab",
        "colab_type": "text"
      },
      "source": [
        "<h1> Assumption 1</h1>"
      ]
    },
    {
      "cell_type": "code",
      "metadata": {
        "id": "ubUp3gQrUn8Z",
        "colab_type": "code",
        "colab": {}
      },
      "source": [
        "\n",
        "def p_function(n):\n",
        "  random_encounter = np.random.random()\n",
        "\n",
        "  return random_encounter/(n-1)\n",
        "  \n",
        "\n",
        "def b_subset_of_a(a,b):\n",
        "  \"\"\"\n",
        "  Function to check if all the edges of the previous model were send to the next model\n",
        "  \"\"\"\n",
        "  counter = 0\n",
        "  big_set = []\n",
        "  small_set = []\n",
        "  for i in a:\n",
        "    big_set.append(tuple(sorted(i)))\n",
        "  for i in b:\n",
        "    small_set.append(tuple(sorted(i)))\n",
        "  if set(small_set).issubset(big_set):\n",
        "    return True\n",
        "  return False\n",
        "\n",
        "\n",
        "\n",
        "def preferential_attachement(n_people: int, n_edges: int):\n",
        "  \"\"\"\n",
        "  Constructs a Barabasi Albert Graph for a given number of people.\n",
        "  The graph is constructed iteratively, where at every step a new node is added\n",
        "  and connected to n_edges of other nodes. This should result in hubs.\n",
        "  \"\"\"\n",
        "  return nx.barabasi_albert_graph(n_people, n_edges)"
      ],
      "execution_count": 0,
      "outputs": []
    },
    {
      "cell_type": "code",
      "metadata": {
        "id": "2MQ86tHCCNmt",
        "colab_type": "code",
        "colab": {}
      },
      "source": [
        "def model(n, p, k, sizes, probs):\n",
        "  # Assumption 1.\n",
        "  # in is defined by assumption 0, and p*(n-1) is the expected number of connections a person has\n",
        "  G1 = nx.erdos_renyi_graph(n, p, directed=False)\n",
        "  # Assumption 1.2\n",
        "  G2 = nx.stochastic_block_model(sizes, probs, seed=0)\n",
        "  # Assumption 1.3\n",
        "  G3 = nx.barabasi_albert_graph(n, k)\n",
        "  #Get edges from a graph\n",
        "  #output (u,v) u and v are the nodes, which are connected to each other\n",
        "  connections = G2.edges()\n",
        "  G1.add_edges_from(connections)\n",
        "  G1 = G1.to_undirected()\n",
        "  return G1\n",
        "\n",
        "\n",
        "#G = model(100,0.1,2,[75, 75, 300],[[0.25, 0.05, 0.02],[0.05, 0.35, 0.07],[0.02, 0.07, 0.40]])"
      ],
      "execution_count": 0,
      "outputs": []
    },
    {
      "cell_type": "markdown",
      "metadata": {
        "id": "u1nPKPFt5_1i",
        "colab_type": "text"
      },
      "source": [
        "<h1> Assumption 2</h1>\n"
      ]
    },
    {
      "cell_type": "code",
      "metadata": {
        "id": "HiN7N4CX2PtH",
        "colab_type": "code",
        "colab": {}
      },
      "source": [
        "def initial_infection(g, people_infected_perc):\n",
        "  healthy = 0\n",
        "  infected = 1\n",
        "  recovered = 2\n",
        "\n",
        "  already_infected = True\n",
        "\n",
        "  size = len(g)\n",
        "  people_infected = people_infected_perc * size\n",
        "  \n",
        "  #initial infected state\n",
        "  for i in g.nodes():\n",
        "    g.nodes[i]['state'] = healthy\n",
        "\n",
        "  for i in range(people_infected):\n",
        "    already_infected = False\n",
        "    while not already_infected:\n",
        "      seed = np.random.randint(people_infected)\n",
        "      if g.nodes[seed]['state'] != infected:\n",
        "        g.nodes[seed]['state'] = infected\n",
        "        already_infected = True\n",
        "\n",
        "  return g\n",
        "\n",
        "\n"
      ],
      "execution_count": 0,
      "outputs": []
    },
    {
      "cell_type": "markdown",
      "metadata": {
        "id": "HYz5I4zlz6ye",
        "colab_type": "text"
      },
      "source": [
        "<h1> Assumption 3 + 4</h1>"
      ]
    },
    {
      "cell_type": "code",
      "metadata": {
        "id": "t97esUgk7BJq",
        "colab_type": "code",
        "outputId": "18a61ffb-79e6-499e-83e6-5fedf4b4dbb2",
        "colab": {
          "base_uri": "https://localhost:8080/",
          "height": 353
        }
      },
      "source": [
        "def interaction_of_people(g, population, lockdown = False, people_met_in_lockdown = None, sociable = False):\n",
        "  people_chosen = np.random.randint(population)\n",
        "  \n",
        "  healthy = 0\n",
        "  infected = 1\n",
        "  recovered = 2\n",
        "\n",
        "  if lockdown:\n",
        "    contacts = people_met_in_lockdown\n",
        "    meet_probability = 0.1\n",
        "  else:\n",
        "    #this variable could be changed\n",
        "    contacts = population * people_chosen\n",
        "    meet_probability = 0.7\n",
        "\n",
        "  for i in g.nodes():\n",
        "    neighbors = g.neighbors(i)\n",
        "    for neighbor in neighbors:\n",
        "      meeting_rand = np.random.random()\n",
        "      if g.node[i]['state'] == healthy:\n",
        "        if meeting_rand > meet_probability:\n",
        "          if g.node[i]['contact']:\n",
        "            g.node[i]['contact'] =+ 1\n",
        "          else:\n",
        "            g.node[i]['contact'] = 1\n",
        "        \n",
        "      elif g.node[i]['state'] == infected:\n",
        "        if meeting_rand > meet_probability:\n",
        "          if g.node[i]['contact']:\n",
        "            g.node[i]['contact'] =+ 1\n",
        "          else:\n",
        "            g.node[i]['contact'] = 1\n",
        "\n",
        "          if g.node[i]['contact_with_infected']:\n",
        "            g.node[i]['contact_with_infected'] =+ 1\n",
        "          else:\n",
        "            g.node[i]['contact_with_infected'] = 1\n",
        "\n",
        "          infection_rand = np.random.random()\n",
        "          if infection_rand > infection_rate:\n",
        "            g.node[i]['state'] = infected\n",
        "\n",
        "\n",
        "  return g\n",
        "\n",
        "\n",
        "g = nx.barabasi_albert_graph(2,1)\n",
        "nx.draw(g)\n",
        "interaction_of_people(g,3400)\n",
        "  "
      ],
      "execution_count": 0,
      "outputs": [
        {
          "output_type": "stream",
          "text": [
            "1\n",
            "0\n"
          ],
          "name": "stdout"
        },
        {
          "output_type": "display_data",
          "data": {
            "image/png": "[encoded data removed]",
            "text/plain": [
              "<Figure size 432x288 with 1 Axes>"
            ]
          },
          "metadata": {
            "tags": []
          }
        }
      ]
    },
    {
      "cell_type": "markdown",
      "metadata": {
        "id": "q_qHBEf3D3Db",
        "colab_type": "text"
      },
      "source": [
        "<h1> Assumption 5 </h1>"
      ]
    },
    {
      "cell_type": "code",
      "metadata": {
        "id": "1tZ0_oEuXjus",
        "colab_type": "code",
        "colab": {}
      },
      "source": [
        "def duration_of_infection_remaining(n_people: int, timesteps: int, time_infected: int):\n",
        "  \"\"\"\n",
        "  Assuming that people are only infectious for a given timeframe.\n",
        "  Hence, they can only change the state of other people given their infection happened <= time_infected\n",
        "  \"\"\"\n",
        "  \n",
        "  "
      ],
      "execution_count": 0,
      "outputs": []
    },
    {
      "cell_type": "code",
      "metadata": {
        "id": "S0iN51YKEdkd",
        "colab_type": "code",
        "colab": {}
      },
      "source": [
        ""
      ],
      "execution_count": 0,
      "outputs": []
    },
    {
      "cell_type": "markdown",
      "metadata": {
        "id": "64_eU39DEeAR",
        "colab_type": "text"
      },
      "source": [
        "<h1> Model running </h1>"
      ]
    },
    {
      "cell_type": "code",
      "metadata": {
        "id": "3Zo1ZA5ZGiW9",
        "colab_type": "code",
        "colab": {}
      },
      "source": [
        "#input parameter"
      ],
      "execution_count": 0,
      "outputs": []
    },
    {
      "cell_type": "code",
      "metadata": {
        "id": "5OlilSVBH3YM",
        "colab_type": "code",
        "colab": {}
      },
      "source": [
        "# G = model()\n",
        "# initial_infection(G)\n",
        "# "
      ],
      "execution_count": 0,
      "outputs": []
    }
  ]
}